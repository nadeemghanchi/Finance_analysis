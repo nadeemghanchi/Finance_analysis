{
  "cells": [
    {
      "cell_type": "markdown",
      "metadata": {},
      "source": [
        "# Interactive TA Dashboard (Cufflinks + ipywidgets)\n"
      ]
    },
    {
      "cell_type": "code",
      "execution_count": null,
      "metadata": {},
      "outputs": [],
      "source": [
        "import cufflinks as cf\n",
        "from plotly.offline import init_notebook_mode\n",
        "import ipywidgets as wd\n",
        "from IPython.display import display\n",
        "import yfinance as yf\n",
        "import pandas as pd\n",
        "\n",
        "init_notebook_mode(connected=True)\n",
        "cf.go_offline()\n"
      ]
    },
    {
      "cell_type": "code",
      "execution_count": null,
      "metadata": {},
      "outputs": [],
      "source": [
        "def ta_dashboard(asset='AAPL', start='2024-01-01', end='2024-06-30', sma_period=20, ema_period=20, add_volume=True, rsi_period=0, macd_fast=0, macd_slow=0, macd_signal=0, bb_period=0, bb_std=2.0):\n",
        "    df = yf.download(asset, start=start, end=end, progress=False)\n",
        "    if df is None or df.empty:\n",
        "        return\n",
        "    qf = cf.QuantFig(df[['Open','High','Low','Close','Volume']], title=f'{asset} TA Dashboard', legend='top')\n",
        "    if add_volume:\n",
        "        qf.add_volume()\n",
        "    if sma_period and sma_period > 0:\n",
        "        qf.add_sma(periods=int(sma_period))\n",
        "    if ema_period and ema_period > 0:\n",
        "        qf.add_ema(periods=int(ema_period))\n",
        "    if rsi_period and rsi_period > 0:\n",
        "        qf.add_rsi(periods=int(rsi_period))\n",
        "    if macd_fast and macd_slow and macd_signal:\n",
        "        qf.add_macd(fast_period=int(macd_fast), slow_period=int(macd_slow), signal_period=int(macd_signal))\n",
        "    if bb_period and bb_period > 0:\n",
        "        qf.add_bollinger_bands(periods=int(bb_period), boll_std=float(bb_std))\n",
        "    return qf.iplot(asFigure=True)\n"
      ]
    },
    {
      "cell_type": "code",
      "execution_count": null,
      "metadata": {},
      "outputs": [],
      "source": [
        "asset_dd = wd.Text(value='AAPL', description='Asset:')\n",
        "start_dp = wd.Text(value='2024-01-01', description='Start:')\n",
        "end_dp = wd.Text(value='2024-06-30', description='End:')\n",
        "sma_slider = wd.IntSlider(value=20, min=0, max=200, step=1, description='SMA:')\n",
        "ema_slider = wd.IntSlider(value=20, min=0, max=200, step=1, description='EMA:')\n",
        "rsi_slider = wd.IntSlider(value=14, min=0, max=100, step=1, description='RSI:')\n",
        "macd_fast = wd.IntSlider(value=12, min=0, max=50, step=1, description='MACD fast:')\n",
        "macd_slow = wd.IntSlider(value=26, min=0, max=100, step=1, description='MACD slow:')\n",
        "macd_signal = wd.IntSlider(value=9, min=0, max=50, step=1, description='MACD signal:')\n",
        "bb_period = wd.IntSlider(value=20, min=0, max=200, step=1, description='BB period:')\n",
        "bb_std = wd.FloatSlider(value=2.0, min=0.5, max=4.0, step=0.1, description='BB std:')\n",
        "vol_toggle = wd.Checkbox(value=True, description='Volume')\n",
        "\n",
        "controls = wd.VBox([\n",
        "    asset_dd, start_dp, end_dp,\n",
        "    sma_slider, ema_slider,\n",
        "    rsi_slider, macd_fast, macd_slow, macd_signal,\n",
        "    bb_period, bb_std,\n",
        "    vol_toggle\n",
        "])\n",
        "out = wd.Output()\n",
        "\n",
        "def update_plot(change=None):\n",
        "    with out:\n",
        "        out.clear_output(wait=True)\n",
        "        fig = ta_dashboard(\n",
        "            asset=asset_dd.value,\n",
        "            start=start_dp.value,\n",
        "            end=end_dp.value,\n",
        "            sma_period=sma_slider.value,\n",
        "            ema_period=ema_slider.value,\n",
        "            add_volume=vol_toggle.value,\n",
        "            rsi_period=rsi_slider.value,\n",
        "            macd_fast=macd_fast.value,\n",
        "            macd_slow=macd_slow.value,\n",
        "            macd_signal=macd_signal.value,\n",
        "            bb_period=bb_period.value,\n",
        "            bb_std=bb_std.value,\n",
        "        )\n",
        "        if fig is not None:\n",
        "            cf.iplot(fig)\n",
        "\n",
        "for w in [asset_dd, start_dp, end_dp, sma_slider, ema_slider, rsi_slider, macd_fast, macd_slow, macd_signal, bb_period, bb_std, vol_toggle]:\n",
        "    w.observe(update_plot, names='value')\n",
        "\n",
        "update_plot()\n",
        "display(controls, out)\n"
      ]
    }
  ],
  "metadata": {
    "language_info": {
      "name": "python"
    }
  },
  "nbformat": 4,
  "nbformat_minor": 2
}
